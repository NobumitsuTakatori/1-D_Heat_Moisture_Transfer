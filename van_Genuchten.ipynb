{
 "cells": [
  {
   "cell_type": "markdown",
   "metadata": {},
   "source": [
    "### van Genuchten-Mualemの不飽和透水係数予測モデル  \n",
    "M. TH. Van Genuchten: A closed-form equation for predicting the hydraulic conductivity of unsaturated soils, Soil science society of America journal, vol.44, pp892-898, 1980\n"
   ]
  },
  {
   "cell_type": "code",
   "execution_count": 1,
   "metadata": {
    "collapsed": true
   },
   "outputs": [],
   "source": [
    "import numpy as np\n",
    "import matplotlib.pyplot as plt"
   ]
  },
  {
   "cell_type": "markdown",
   "metadata": {},
   "source": [
    "#### 平衡含水率・不飽和透水係数を求めるモデル  \n",
    "$\\theta$：飽和度[-]  \n",
    "$K_l$：比透水係数  \n",
    "$h$：水頭高さ　or　水分化学ポテンシャル  \n",
    "$\\alpha, l, m, n$：任意の定数  \n",
    "\n",
    "文中式(3)　$\\theta = [\\frac{1}{1+(\\alpha h)^n}]^m　$  \n",
    "\n",
    "文中式(8)　$K_l = \\theta ^{1/2}[1-(1-\\theta^{1/m})^m]^2$  \n",
    "\n",
    "※論文より、$l=2, m = 1-1/n$である"
   ]
  },
  {
   "cell_type": "code",
   "execution_count": 2,
   "metadata": {
    "collapsed": true
   },
   "outputs": [],
   "source": [
    "def getSl( Alfa, Miu, m, n ):\n",
    "    return ( 1.0 + ( -Alfa * Miu )**n )**(-m)\n",
    "\n",
    "def getKl(Alfa,Miu,m,n,l):\n",
    "    return ( getSl( Alfa, Miu, m, n )**l ) * ( ( 1.0 - ( 1.0 - getSl( Alfa, Miu, m, n )**(1.0/m) )**m )**2.0 )"
   ]
  },
  {
   "cell_type": "markdown",
   "metadata": {},
   "source": [
    "#### 含水率のポテンシャル微分　・　不飽和度からポテンシャルへの変換　\n",
    "$\\theta_s$：空隙率  \n",
    "$\\theta_r$：残留含水率(residual water content)　※計算では0とした\n",
    "\n",
    "文中式(23)　$\\frac{d\\theta}{dh} = \\frac{-\\alpha m(\\theta_s-\\theta_r)}{1-m}\\theta^{1/m}(1-\\theta^{1/m})^m$  \n",
    "\n",
    "文中式(24)　$h = \\frac{1}{\\alpha}(\\theta^{-1/m}-1)^{1/n}$  "
   ]
  },
  {
   "cell_type": "code",
   "execution_count": 3,
   "metadata": {
    "collapsed": true
   },
   "outputs": [],
   "source": [
    "def getDPhi( Phimax, Alfa, Miu, m, n ):\n",
    "    Sl = getSl( Alfa, Miu, m, n )\n",
    "    DPhi = -( Alfa * m * Phimax ) / ( 1.0 - m ) * ( Sl**(1.0/m) ) * ( ( 1.0 - Sl**(1.0/m) )**m )\n",
    "    return np.abs( DPhi )\n",
    "\n",
    "def getMiu( Phimax, Phi, Alfa, m, n ):\n",
    "    Sl = Phi / Phimax\n",
    "    return - ( ( ( Sl**(-1.0/m) ) - 1.0 )**(1.0/n) ) / Alfa"
   ]
  },
  {
   "cell_type": "markdown",
   "metadata": {},
   "source": [
    "#### 透水係数、含水率への変換  \n",
    "$\\rho$：溶液の密度[kg/m3]  \n",
    "$g$：重量加速度[m/s]  \n",
    "$K_{sat}$：飽和透水係数  \n",
    "$\\lambda^{'}_{\\mu l}$：水分化学ポテンシャル勾配に対する液相水分伝導率  \n",
    "$\\phi_{max}$：空隙率[-]  \n",
    "$\\phi$：含水率[-]  \n",
    "\n",
    "$\\lambda^{'}_{\\mu l} = K_{sat}*K_l*\\frac{\\rho}{g}$  \n",
    "\n",
    "$\\phi = \\theta\\phi_{max}$"
   ]
  },
  {
   "cell_type": "code",
   "execution_count": 4,
   "metadata": {
    "collapsed": true
   },
   "outputs": [],
   "source": [
    "def getLamdml( Ksat, Alfa, Miu, m, n, l ):\n",
    "    Kl = getKl(Alfa,Miu,m,n,l)\n",
    "    row = 1000.0        #塩溶液では密度変わるのでは\n",
    "    g = 9.8\n",
    "    return Ksat * Kl * row / g\n",
    "\n",
    "def getPhi( Phimax, Alfa, Miu, m, n ):\n",
    "    Sl = getSl( Alfa, Miu, m, n )\n",
    "    return Phimax * Sl"
   ]
  },
  {
   "cell_type": "code",
   "execution_count": 5,
   "metadata": {
    "collapsed": false
   },
   "outputs": [
    {
     "data": {
      "image/png": "[encoded data removed]",
      "text/plain": [
       "<matplotlib.figure.Figure at 0x1782de03780>"
      ]
     },
     "metadata": {},
     "output_type": "display_data"
    }
   ],
   "source": [
    "# チェック\n",
    "###     van-Genuchten用情報    ##########\n",
    "alfa = 10.0/98.0\n",
    "n    = 2.0\n",
    "m    = 1.0 -(1.0/n)\n",
    "l    = 0.5\n",
    "\n",
    "### 各ポテンシャルごとの飽和度・比透水係数計算\n",
    "miu = np.arange(-10000,-1.0,1.0)\n",
    "sl  = getSl(alfa, miu, m, n)\n",
    "kl  = getKl(alfa,miu,m,n,l)\n",
    "\n",
    "# 表示\n",
    "plt.grid(which=\"both\")\n",
    "plt.xscale(\"log\")\n",
    "plt.plot(-miu,kl, label=\"kl\")\n",
    "plt.plot(-miu,sl, label=\"sl\")\n",
    "plt.xlabel(\"chemical potential of water[J/kg]\")\n",
    "plt.ylabel(\"Saturaton of water[-], relative permeability of water[-]\")\n",
    "plt.legend(loc=\"upper right\")\n",
    "plt.show()"
   ]
  },
  {
   "cell_type": "code",
   "execution_count": null,
   "metadata": {
    "collapsed": true
   },
   "outputs": [],
   "source": []
  }
 ],
 "metadata": {
  "kernelspec": {
   "display_name": "Python 3",
   "language": "python",
   "name": "python3"
  },
  "language_info": {
   "codemirror_mode": {
    "name": "ipython",
    "version": 3
   },
   "file_extension": ".py",
   "mimetype": "text/x-python",
   "name": "python",
   "nbconvert_exporter": "python",
   "pygments_lexer": "ipython3",
   "version": "3.6.2"
  }
 },
 "nbformat": 4,
 "nbformat_minor": 2
}
