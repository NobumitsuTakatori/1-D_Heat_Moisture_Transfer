{
 "cells": [
  {
   "cell_type": "code",
   "execution_count": 1,
   "metadata": {
    "collapsed": false
   },
   "outputs": [
    {
     "name": "stdout",
     "output_type": "stream",
     "text": [
      "Importing Jupyter notebook from MoistureConversion.ipynb\n"
     ]
    }
   ],
   "source": [
    "import numpy as np\n",
    "import importlib\n",
    "import nbimporter\n",
    "\n",
    "import vapour_pressure as vp\n",
    "import MoistureConversion as mc"
   ]
  },
  {
   "cell_type": "markdown",
   "metadata": {},
   "source": [
    "### 物性値を取得するクラス  \n",
    "各物性値ファイルに存在する物性値を元の形式のまま取得してくるクラス。  \n",
    "\n",
    "#### 実験から熱水分物性値として考えられるもの  \n",
    "【参考】建築材料の熱・空気・湿気物性値，日本建築学会，丸善株式会社，2001など\n",
    "\n",
    "#### 熱物性値  \n",
    "$\\dot q$：単位時間当たりの熱流量の密度[W/m2]  \n",
    "$\\rho_0$：密度[kg/m3]  \n",
    "$c_0$：比熱[J/kg K]  \n",
    "$c_0\\rho_0$：容積熱容量[J/m3 K]  \n",
    "\n",
    "$\\lambda$：熱伝導率[W/mK]  \n",
    "定義：$\\dot q = -\\lambda・grad\\space T$  \n",
    "\n",
    "$R$：熱抵抗[Km2/W]  \n",
    "\n",
    "#### 水分物性値  \n",
    "$\\dot m_v$：単位時間当たりの水蒸気流量の密度[kg/m2 s]  \n",
    "$\\dot m_m$：単位時間当たりの水分流量の密度[kg/m2 s]  \n",
    "$\\phi$：含水率[m3/m3]  \n",
    "他標記として$w$[kg/m3]、$u$[kg/kg]など  \n",
    "$S$：飽和度[-]  \n",
    "#### 気相水分伝導率  \n",
    "$\\delta_p$：透湿率[kg/m Pa s]　文中記号DP  \n",
    "定義：$m_v = -\\delta_p・grad\\space p_v$  \n",
    "\n",
    "$Z_p$：湿気抵抗[m2Pa s/kg]  \n",
    "$\\delta_v$：水蒸気の拡散係数[m2/s]  \n",
    "定義：$\\dot m_v = -\\delta_v・grad\\space \\rho_v$\n",
    "\n",
    "$k_T$：温度勾配水分伝導率[kg/m K s]  \n",
    "定義：$\\dot m_m = -k_T・grad\\space T$  \n",
    "\n",
    "$D_T$：温度勾配水分拡散係数[m2/K s]  \n",
    "定義：$\\dot m_m = -\\rho_0 D_T・grad\\space T$  \n",
    "\n",
    "$\\lambda^{'}_{\\mu g}$：水分化学ポテンシャル勾配に対する気相水分伝導率[kg/ms (J/kg)]  \n",
    "定義：$\\dot m_v = -\\lambda^{'}_{\\mu g}・grad\\space \\mu$\n",
    "\n",
    "$\\lambda^{'}_{Tg}$：温度勾配に対する気相水分伝導率[kg/ms K]  \n",
    "定義：$\\dot m_v = -\\lambda^{'}_{Tg}・grad\\space \\mu$\n",
    "\n",
    "#### 液相水分伝導率  \n",
    "$k_m$：水分伝導率[kg/m Pa s]  \n",
    "定義：$\\dot m_m = -k_m・grad\\space s$\n",
    "\n",
    "$D_w$：水分拡散係数[m2/s]  \n",
    "定義：$\\dot m_m = -\\rho_0 D_w・grad\\space u$  \n",
    "\n",
    "$\\lambda^{'}_{\\mu l}$：水分化学ポテンシャル勾配に対する液相水分伝導率[kg/ms (J/kg)]  \n",
    "定義：$\\dot m_v = -\\lambda^{'}_{\\mu l}・grad\\space \\mu$\n",
    "\n",
    "#### 空気の拡散係数  \n",
    "$k_a$：透気率[m2/Ks]  \n",
    "\n",
    "\n",
    "※新しい基準で物性値を測定した場合、本クラスに書き加えること\n"
   ]
  },
  {
   "cell_type": "markdown",
   "metadata": {},
   "source": [
    "### 取得した物性値を流量計算に適した形に換算するクラス"
   ]
  },
  {
   "cell_type": "markdown",
   "metadata": {},
   "source": [
    "#### 物性名からインポートすべきモジュール名を検索する"
   ]
  },
  {
   "cell_type": "code",
   "execution_count": 2,
   "metadata": {
    "collapsed": true
   },
   "outputs": [],
   "source": [
    "def getModuleName( name ):\n",
    "    try:\n",
    "        return {\n",
    "            'BentheimerSandstone': 'BentheimerSandstone',        \n",
    "        }[name]\n",
    "    except:\n",
    "        raise ValueError('物性リストに登録されていない物性名が指定されました。')    "
   ]
  },
  {
   "cell_type": "markdown",
   "metadata": {},
   "source": [
    "#### インポートすべきモジュール名をもとに物性値計算を定義した外部ファイルをインポートする"
   ]
  },
  {
   "cell_type": "code",
   "execution_count": 3,
   "metadata": {
    "collapsed": true
   },
   "outputs": [],
   "source": [
    "def importModule( moduleName ):\n",
    "    try:\n",
    "        return importlib.import_module( moduleName )\n",
    "    except:\n",
    "        raise ImportError('物性リストに登録されている外部モジュールが見つかりません。')"
   ]
  },
  {
   "cell_type": "markdown",
   "metadata": {},
   "source": [
    "#### 水の気体定数"
   ]
  },
  {
   "cell_type": "code",
   "execution_count": 4,
   "metadata": {
    "collapsed": true
   },
   "outputs": [],
   "source": [
    "def Rv():\n",
    "    return 8316.0/18.016"
   ]
  },
  {
   "cell_type": "markdown",
   "metadata": {},
   "source": [
    "#### 水の密度"
   ]
  },
  {
   "cell_type": "code",
   "execution_count": 5,
   "metadata": {
    "collapsed": true
   },
   "outputs": [],
   "source": [
    "def row():\n",
    "    return 1000.0"
   ]
  },
  {
   "cell_type": "markdown",
   "metadata": {},
   "source": [
    "#### 重力加速度"
   ]
  },
  {
   "cell_type": "code",
   "execution_count": 6,
   "metadata": {
    "collapsed": true
   },
   "outputs": [],
   "source": [
    "def grav():\n",
    "    return 9.806650"
   ]
  },
  {
   "cell_type": "code",
   "execution_count": 7,
   "metadata": {
    "collapsed": true
   },
   "outputs": [],
   "source": [
    "def getDPDM( temp, miu ):\n",
    "    return vp.Pvs( temp ) * np.exp( miu / Rv() / temp ) / Rv() / temp"
   ]
  },
  {
   "cell_type": "code",
   "execution_count": 8,
   "metadata": {
    "collapsed": true
   },
   "outputs": [],
   "source": [
    "def getDPDT( temp, miu ):\n",
    "    return np.exp( miu / Rv() / temp ) * ( vp.DPvs( temp ) - vp.Pvs( temp ) * miu / Rv() / ( temp**2 ) )"
   ]
  },
  {
   "cell_type": "code",
   "execution_count": 9,
   "metadata": {
    "collapsed": false
   },
   "outputs": [],
   "source": [
    "class MaterialKernel():\n",
    "    # このクラスは Material そのものを表すのではなくて、あくまで CROW 等の物性を計算するアルゴリズムを提供するだけなので、\n",
    "    # 名前に Kernel とつけました。\n",
    "    \n",
    "    def __init__( self, name ):\n",
    "        \n",
    "        # 物性名称からインポートすべきモジュール名称を検索する。\n",
    "        moduleName = getModuleName( name )\n",
    "        \n",
    "        # インポートすべきモジュールをインポートする。モジュールが存在しなければエラー。\n",
    "        module = importModule( moduleName )\n",
    "        \n",
    "        if ( 'getCRowByMiu' in dir( module ) ) and ( 'getCRowByRH' in dir( module ) ):\n",
    "            # module 内に、関数 getCRowByMiu と getCRowByRH が両方定義されているとき\n",
    "            # クラス Material に両関数を追加する。\n",
    "            self.getCRowByMiu = module.getCRowByMiu\n",
    "            self.getCRowByRH  = module.getCRowByRH\n",
    "        elif ( 'getCRowByMiu' in dir( module ) ):\n",
    "            # module 内に、関数 getCRowByMiu のみ定義されているとき\n",
    "            # クラス Material に getCRowByMiu を追加し、getCRowByRH 新たに作成して追加する。\n",
    "            self.getCRowByMiu = module.getCRowByMiu\n",
    "            self.getCRowByRH  = convertMiuFuction2RHFunction( module.getCRowByMiu )\n",
    "        elif ( 'getCRowByRH' in dir( module ) ):\n",
    "            # module 内に、関数 getCRowByRH のみ定義されているとき\n",
    "            # クラス Material に getCRowByRH を追加し、getCRowByMiu 新たに作成して追加する。\n",
    "            self.getCRowByMiu = convertRHFunction2MiuFunction( module.getCRowByRH )\n",
    "            self.getCRowByRH  = module.getCRowByRH\n",
    "        else:\n",
    "            # どちらも存在しない場合は関数を追加しない。\n",
    "            pass\n",
    "        # 以下、同じ。\n",
    "        \n",
    "        if( 'getLAMByMiu' in dir( module ) ) and ( 'getLAMByRH' in dir( module ) ):\n",
    "            self.getLAMByMiu = module.getLAMByMiu\n",
    "            self.getLAMByRH  = module.getLAMByRH\n",
    "        elif( 'getLAMByMiu' in dir( module ) ):\n",
    "            self.getLAMByMiu = module.getLAMByMiu\n",
    "            self.getLAMByRH  = convertMiuFuction2RHFunction( module.getLAMByMiu )\n",
    "        elif( 'getLAMByRH' in dir( module ) ):\n",
    "            self.getLAMByMiu = convertRHFunction2MiuFunction( module.getLAMByRH )\n",
    "            self.getLAMByRH  = module.getLAMByRH\n",
    "        else:\n",
    "            pass\n",
    "\n",
    "        if( 'getPhiByMiu' in dir( module ) ) and ( 'getPhiByRH' in dir( module ) ):\n",
    "            self.getPhiByMiu = module.getPhiByMiu\n",
    "            self.getPhiByRH  = module.getPhiByRH\n",
    "        elif( 'getPhiByMiu' in dir( module ) ):\n",
    "            self.getPhiByMiu = module.getPhiByMiu\n",
    "            self.getPhiByRH  = convertMiuFuction2RHFunction( module.getPhiByMiu )\n",
    "        elif( 'getPhiByRH' in dir( module ) ):\n",
    "            self.getPhiByMiu = convertRHFunction2MiuFunction( module.getPhiByRH )\n",
    "            self.getPhiByRH  = module.getPhiByRH\n",
    "        else:\n",
    "            pass\n",
    "\n",
    "        if( 'getDwByMiu' in dir( module ) ) and ( 'getDwByRH' in dir( module ) ):\n",
    "            self.getDwByMiu = module.getDwByMiu\n",
    "            self.getDwByRH  = module.getDwByRH\n",
    "        elif( 'getDwByMiu' in dir( module ) ):\n",
    "            self.getDwByMiu = module.getDwByMiu\n",
    "            self.getDwByRH  = convertMiuFuction2RHFunction( module.getDwByMiu )\n",
    "        elif( 'getDwByRH' in dir( module ) ):\n",
    "            self.getDwByMiu = convertRHFunction2MiuFunction( module.getDwByRH )\n",
    "            self.getDwByRH  = module.getDwByRH\n",
    "        else:\n",
    "            pass\n",
    "\n",
    "        if( 'getDPByMiu' in dir( module ) ) and ( 'getDPByRH' in dir( module ) ):\n",
    "            self.getDPByMiu = module.getDPByMiu\n",
    "            self.getDPByRH  = module.getDPByRH\n",
    "        elif( 'getDPByMiu' in dir( module ) ):\n",
    "            self.getDPByMiu = module.getDPByMiu\n",
    "            self.getDPByRH  = convertMiuFuction2RHFunction( module.getDPByMiu )\n",
    "        elif( 'getDPByRH' in dir( module ) ):\n",
    "            self.getDPByMiu = convertRHFunction2MiuFunction( module.getDPByRH )\n",
    "            self.getDPByRH  = module.getDPByRH\n",
    "        else:\n",
    "            pass\n",
    "\n",
    "        if( 'getDPhiByMiu' in dir( module ) ) and ( 'getDPhiByRH' in dir( module ) ):\n",
    "            self.getDPhiByMiu = module.getDPhiByMiu\n",
    "            self.getDPhiByRH  = module.getDPhiByRH\n",
    "        elif( 'getDPhiByMiu' in dir( module ) ):\n",
    "            self.getDPhiByMiu = module.getDPhiByMiu\n",
    "            self.getDPhiByRH  = convertMiuFuction2RHFunction( module.getDPhiByMiu )\n",
    "        elif( 'getDPhiByRH' in dir( module ) ):\n",
    "            self.getDPhiByMiu = convertRHFunction2MiuFunction( module.getDPhiByRH )\n",
    "            self.getDPhiByRH  = module.getDPhiByRH\n",
    "        else:\n",
    "            pass\n",
    "\n",
    "        if( 'getMiuByPhi' in dir( module ) ) and ( 'getRHByPhi' in dir( module ) ):\n",
    "            self.getMiuByPhi = module.getMiuByPhi\n",
    "            self.getRHByPhi  = module.getRHByPhi\n",
    "        elif( 'getMiuByPhi' in dir( module ) ):\n",
    "            self.getMiuByPhi = module.getMiuByPhi\n",
    "            self.getRHByPhi  = lambda temp, phi : mc.convertMiu2RH( temp, module.getMiuByPhi( temp, phi ) )\n",
    "        elif( 'getRHByPhi' in dir( module ) ):\n",
    "            self.getMiuByPhi = lambda temp, phi : mc.convertRH2Miu( temp, module.getRHByPhi( temp, phi ) )\n",
    "            self.getRHByPhi  = module.getRHByPhi\n",
    "        else:\n",
    "            pass\n",
    "        \n",
    "        if( 'getLDMGByMiu' in dir(module) ) and ( 'getLDMGByRH' in dir( module ) ):\n",
    "            self.getLDMGByMiu = module.getLDMGByMiu\n",
    "            self.getLDMGByRH  = module.getLDMGByRH\n",
    "        elif( 'getLDMGByMiu' in dir( module ) ):\n",
    "            self.getLDMGByMiu = module.getLDMGByMiu\n",
    "            self.getLDMGByRH  = convertMiuFuction2RHFunction( module.getLDMGByMiu )\n",
    "        elif( 'getLDMGByRH' in dir( module ) ):\n",
    "            self.getLDMGByMiu = convertRHFuction2MiuFunction( module.getLDMGByRH )\n",
    "            self.getLDMGByRH  = module.getLDMGByRH\n",
    "        elif( 'getDPByMiu' in dir( module ) ):\n",
    "            # 本クラスに DP を計算する式が存在すれば、LDMG の計算を DP を用いて行う。\n",
    "            # getDPByRH が定義されていれば、getDPByMiu も定義されていれはずなので、ここでは getDPByMiu 関数のみ検索する。\n",
    "            self.getLDMGByMiu = lambda temp, miu : getDPDM( temp, miu                    ) * self.getDPByMiu( temp, miu                    )\n",
    "            self.getLDMGByRH  = lambda temp, rh  : getDPDM( temp, mc.convertRH2Miu( rh ) ) * self.getDPByMiu( temp, mc.convertRH2Miu( rh ) )\n",
    "        else:\n",
    "            pass\n",
    "        \n",
    "        if( 'getLDTGByMiu' in dir(module) ) and ( 'getLDTGByRH' in dir( module ) ):\n",
    "            self.getLDTGByMiu = module.getLDTGByMiu\n",
    "            self.getLDTGByRH  = module.getLDTGByRH\n",
    "        elif( 'getLDTGByMiu' in dir( module ) ):\n",
    "            self.getLDTGByMiu = module.getLDTGByMiu\n",
    "            self.getLDTGByRH  = convertMiuFuction2RHFunction( module.getLDTGByMiu )\n",
    "        elif( 'getLDTGByRH' in dir( module ) ):\n",
    "            self.getLDTGByMiu = convertRHFuction2MiuFunction( module.getLDTGByRH )\n",
    "            self.getLDTGByRH  = module.getLDTGByRH\n",
    "        elif( 'getDPByMiu' in dir( module ) ):\n",
    "            # 本クラスに DP を計算する式が存在すれば、LDTG の計算を DP を用いて行う。\n",
    "            # getDPByRH が定義されていれば、getDPByMiu も定義されていれはずなので、ここでは getDPByMiu 関数のみ検索する。\n",
    "            self.getLDTGByMiu = lambda temp, miu : getDPDT( temp, miu                    ) * self.getDPByMiu( temp, miu                    )\n",
    "            self.getLDTGByRH  = lambda temp, rh  : getDPDT( temp, mc.convertRH2Miu( rh ) ) * self.getDPByMiu( temp, mc.convertRH2Miu( rh ) )\n",
    "        else:\n",
    "            pass\n",
    "\n",
    "        if( 'getLDMLByMiu' in dir(module) ) and ( 'getLDMLByRH' in dir( module ) ):\n",
    "            self.getLDMLByMiu = module.getLDMLByMiu\n",
    "            self.getLDMLByRH  = module.getLDMLByRH\n",
    "        elif( 'getLDMLByMiu' in dir( module ) ):\n",
    "            self.getLDMLByMiu = module.getLDMLByMiu\n",
    "            self.getLDMLByRH  = convertMiuFuction2RHFunction( module.getLDMLByMiu )\n",
    "        elif( 'getLDMLByRH' in dir( module ) ):\n",
    "            self.getLDMLByMiu = convertRHFuction2MiuFunction( module.getLDMLByRH )\n",
    "            self.getLDMLByRH  = module.getLDMLByRH\n",
    "        elif( 'getDwByMiu' in dir( module ) ):\n",
    "            # 本クラスに Dw を計算する式が存在すれば、LDML の計算を Dw を用いて行う。\n",
    "            # getDwByRH が定義されていれば、getDwByMiu も定義されていれはずなので、ここでは getDwByMiu 関数のみ検索する。\n",
    "            self.getLDMLByMiu = lambda temp, miu : row() / grav() * self.getDwByMiu( temp, miu                    )\n",
    "            self.getLDMLByRH  = lambda temp, rh  : row() / grav() * self.getDwByMiu( temp, mc.convertRH2Miu( rh ) )\n",
    "        else:\n",
    "            pass        "
   ]
  },
  {
   "cell_type": "code",
   "execution_count": 10,
   "metadata": {
    "collapsed": true
   },
   "outputs": [],
   "source": [
    "def convertMiuFuction2RHFunction( miuFunc ):\n",
    "    def rhFunc( temp, rh ):\n",
    "        miu = mc.convertRH2Miu( temp, rh )\n",
    "        return miuFunc( temp, miu )\n",
    "    return rhFunc"
   ]
  },
  {
   "cell_type": "code",
   "execution_count": 11,
   "metadata": {
    "collapsed": true
   },
   "outputs": [],
   "source": [
    "def convertRHFunction2MiuFunction( rhFunc ):\n",
    "    def miuFunc( temp, miu ):\n",
    "        rh = mc.convertMiu2RH( temp, miu )\n",
    "        return rhFunc( temp, rh )\n",
    "    return miuFunc"
   ]
  },
  {
   "cell_type": "code",
   "execution_count": 12,
   "metadata": {
    "collapsed": false
   },
   "outputs": [
    {
     "name": "stdout",
     "output_type": "stream",
     "text": [
      "Importing Jupyter notebook from BentheimerSandstone.ipynb\n",
      "Importing Jupyter notebook from van_Genuchten.ipynb\n"
     ]
    }
   ],
   "source": [
    "m = MaterialKernel('BentheimerSandstone')\n"
   ]
  },
  {
   "cell_type": "code",
   "execution_count": 13,
   "metadata": {
    "collapsed": false
   },
   "outputs": [
    {
     "data": {
      "text/plain": [
       "2106282.314793056"
      ]
     },
     "execution_count": 13,
     "metadata": {},
     "output_type": "execute_result"
    }
   ],
   "source": [
    "m.getCRowByMiu( 293.15, -10.0 )"
   ]
  },
  {
   "cell_type": "code",
   "execution_count": 14,
   "metadata": {
    "collapsed": false
   },
   "outputs": [
    {
     "data": {
      "text/plain": [
       "0.99992610110464986"
      ]
     },
     "execution_count": 14,
     "metadata": {},
     "output_type": "execute_result"
    }
   ],
   "source": [
    "mc.convertMiu2RH( 293.15, -10.0 )"
   ]
  },
  {
   "cell_type": "code",
   "execution_count": 15,
   "metadata": {
    "collapsed": false
   },
   "outputs": [
    {
     "data": {
      "text/plain": [
       "2106282.3147931653"
      ]
     },
     "execution_count": 15,
     "metadata": {},
     "output_type": "execute_result"
    }
   ],
   "source": [
    "m.getCRowByRH( 293.15, 0.99992610110464986 )"
   ]
  },
  {
   "cell_type": "code",
   "execution_count": null,
   "metadata": {
    "collapsed": true
   },
   "outputs": [],
   "source": []
  }
 ],
 "metadata": {
  "kernelspec": {
   "display_name": "Python 3",
   "language": "python",
   "name": "python3"
  },
  "language_info": {
   "codemirror_mode": {
    "name": "ipython",
    "version": 3
   },
   "file_extension": ".py",
   "mimetype": "text/x-python",
   "name": "python",
   "nbconvert_exporter": "python",
   "pygments_lexer": "ipython3",
   "version": "3.6.2"
  }
 },
 "nbformat": 4,
 "nbformat_minor": 2
}
