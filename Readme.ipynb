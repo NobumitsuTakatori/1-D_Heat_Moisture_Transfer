{
 "cells": [
  {
   "cell_type": "markdown",
   "metadata": {},
   "source": [
    "\n",
    "\n",
    "## 仕様書  \n",
    "本プログラムは前進型有限差分法による材料中の熱・水分の移動計算を行うものである。  \n",
    "計算にあたり使用者は以下の条件を随時選択・変更できるものとした。\n",
    "#### 計算内容（収支式）  \n",
    "・熱計算  \n",
    "・熱、水分計算（蒸気拡散支配領域）  \n",
    "・熱・水分計算（液水領域を含む）  \n",
    "#### 流量計算方法  \n",
    "・熱（Fourierの熱伝導）  \n",
    "・水蒸気（圧力基準　or 水分化学ポテンシャル基準）（絶対湿度基準も実装予定）  \n",
    "・液水（圧力基準　or 水分化学ポテンシャル基準）  \n",
    "#### 境界条件  \n",
    "・第一種境界条件（温湿度固定）  \n",
    "・第二種境界条件（流量固定）  \n",
    "・第三種境界条件（空気との熱伝達・湿気伝達）  \n"
   ]
  },
  {
   "cell_type": "markdown",
   "metadata": {},
   "source": [
    "### 差分法による計算の基本手順  \n",
    "本プログラムにおける基本的な計算手順は以下のようになる。  \n",
    "\n",
    "<img src=\"caluculationMethod.jpg\" width= 60%>  \n"
   ]
  },
  {
   "cell_type": "markdown",
   "metadata": {},
   "source": [
    "### モジュールの説明  \n",
    "\n",
    "上述の計算手順はそれぞれ以下クラスで実行される。  \n",
    "\n",
    "class ： Cell　…　セルの作成・温湿度、物性値情報の入力  \n",
    "class ： Flux(継承：Cell)　…　差分計算　及び　流量計算  \n",
    "class ： BoundaryCondtion（継承：Cell）　…　境界条件の入力  \n",
    "class ： BalanceEquation（継承：全て） 　…　収支計算"
   ]
  },
  {
   "cell_type": "markdown",
   "metadata": {},
   "source": [
    "#### 各クラスに従属するモジュール  \n",
    "・材料物性モジュール(Cell)  \n",
    "・セル間の差分を計算するモジュール(Flux)  \n",
    "・流量計算の式を保管するモジュール(Flux)  \n",
    "・第三種境界条件に用いる境界と隣接する空気の温湿度を管理するモジュール(BoundaryCondition)  \n",
    "・第三種境界条件に用いる流量計算式を保管するモジュール(BoundaryCondition)  \n",
    "・熱・水分の収支を保管するモジュール(BalanceEquation)  \n",
    "・エラー判定をするモジュール(BalanceEquation)"
   ]
  },
  {
   "cell_type": "markdown",
   "metadata": {},
   "source": [
    "### 計算・各クラスのフロー図\n",
    "\n",
    "<img src=\"flow_diagram.jpg\" width= 80%>  \n"
   ]
  },
  {
   "cell_type": "code",
   "execution_count": null,
   "metadata": {},
   "outputs": [],
   "source": []
  }
 ],
 "metadata": {
  "kernelspec": {
   "display_name": "Python 3",
   "language": "python",
   "name": "python3"
  },
  "language_info": {
   "codemirror_mode": {
    "name": "ipython",
    "version": 3
   },
   "file_extension": ".py",
   "mimetype": "text/x-python",
   "name": "python",
   "nbconvert_exporter": "python",
   "pygments_lexer": "ipython3",
   "version": "3.6.4"
  }
 },
 "nbformat": 4,
 "nbformat_minor": 2
}
