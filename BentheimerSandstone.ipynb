{
 "cells": [
  {
   "cell_type": "code",
   "execution_count": 1,
   "metadata": {
    "collapsed": false
   },
   "outputs": [
    {
     "name": "stdout",
     "output_type": "stream",
     "text": [
      "Importing Jupyter notebook from van_Genuchten.ipynb\n"
     ]
    }
   ],
   "source": [
    "import nbimporter\n",
    "import van_Genuchten as vG"
   ]
  },
  {
   "cell_type": "markdown",
   "metadata": {},
   "source": [
    "### Bentheimer Sandstoneの物性値  \n",
    "参考：V.Voronina, L. Pel and K. Kopinga: The influence of osmotic pressure on poulticing treatments for heritage objects, Material and Structures, vol.46, pp221-231, 2013  \n",
    "$\\phi_{max}$：空隙率[-]  \n",
    "$K_{sat}$：飽和透水係数  \n",
    "$\\lambda^{'}_P$：水蒸気圧勾配に対する気相水分伝導率  \n",
    "$\\rho$；材料の密度[kg/m3]  \n",
    "$C$：比熱[J/(kg・K)]  \n",
    "$\\rho$：水の密度[kg/m3]  \n",
    "$r$：水の相変化熱量  \n",
    "\n",
    "物性値を書く際における注意事項  \n",
    "・物性情報は必ず(tem:温度、moisture：水分状態)からなる関数する。（変数を必要としない場合でも書くこと）  \n",
    "・\n",
    "\n",
    "【理想】    \n",
    "・それぞれの名称を重複することなく一度定義で完結させれること。"
   ]
  },
  {
   "cell_type": "code",
   "execution_count": 2,
   "metadata": {
    "collapsed": true
   },
   "outputs": [],
   "source": [
    "def prop():\n",
    "    return {\n",
    "        'Phimax' : 0.23,\n",
    "        'Ksat'   : 2.0e-7,\n",
    "        'LAMDP'  : 2.0E-10,\n",
    "        'row'    : 1479.25,\n",
    "        'C'      : 750.0,\n",
    "        'roww'   : 1000.0,\n",
    "        'r'      : 4.18605E+3,\n",
    "        # van-Genuchten用情報\n",
    "        'Alfa'   : 10.0/98.0,\n",
    "        'n'      : 2.0,\n",
    "        'm'      : 1.0 - ( 1.0 / 2.0 ),\n",
    "        'l'      : 0.5,\n",
    "    }"
   ]
  },
  {
   "cell_type": "markdown",
   "metadata": {},
   "source": [
    "## Functions"
   ]
  },
  {
   "cell_type": "code",
   "execution_count": 3,
   "metadata": {
    "collapsed": true
   },
   "outputs": [],
   "source": [
    "def getCRowByMiu( temp, miu ):\n",
    "    p = prop()\n",
    "    return p['row'] * p['C'] + p['row'] * getPhiByMiu( temp, miu ) * p['r']"
   ]
  },
  {
   "cell_type": "code",
   "execution_count": 4,
   "metadata": {
    "collapsed": true
   },
   "outputs": [],
   "source": [
    "def getLAMByMiu( temp, miu ):\n",
    "    return 1.2"
   ]
  },
  {
   "cell_type": "code",
   "execution_count": 5,
   "metadata": {
    "collapsed": false
   },
   "outputs": [],
   "source": [
    "def getPhiByMiu( temp, miu ):\n",
    "    p = prop()\n",
    "    return vG.getPhi( p['Phimax'], p['Alfa'], miu, p['m'], p['n'] )"
   ]
  },
  {
   "cell_type": "code",
   "execution_count": 6,
   "metadata": {
    "collapsed": true
   },
   "outputs": [],
   "source": [
    "def getMiuByPhi( temp, phi ):\n",
    "    p = prop()\n",
    "    return vG.getMiu( p['Phimax'], phi, p['Alfa'], p['m'], p['n'] )                                              "
   ]
  },
  {
   "cell_type": "code",
   "execution_count": 7,
   "metadata": {
    "collapsed": true
   },
   "outputs": [],
   "source": [
    "def getDwByMiu( temp, miu ):\n",
    "    p = prop()\n",
    "    return p['Ksat'] * vG.getKl( p['Alfa'], miu, p['m'], p['n'], p['l'] )"
   ]
  },
  {
   "cell_type": "code",
   "execution_count": 8,
   "metadata": {
    "collapsed": true
   },
   "outputs": [],
   "source": [
    "def getDPByMiu( temp, miu ):\n",
    "    p = prop()\n",
    "    Phi = getPhiByMiu( temp, miu )\n",
    "    Sl  = Phi / p['Phimax']\n",
    "    return p['LAMDP'] * ( 1.0 - Sl * 0.9 )    "
   ]
  },
  {
   "cell_type": "code",
   "execution_count": 9,
   "metadata": {
    "collapsed": true
   },
   "outputs": [],
   "source": [
    "def getDPhiByMiu( temp, miu ):\n",
    "    p = prop()\n",
    "    return vG.getDPhi( p['Phimax'], p['Alfa'], miu, p['m'], p['n'] )"
   ]
  },
  {
   "cell_type": "code",
   "execution_count": 10,
   "metadata": {
    "collapsed": false
   },
   "outputs": [],
   "source": [
    "temp = 293.15\n",
    "miu  = -10.0"
   ]
  },
  {
   "cell_type": "code",
   "execution_count": 11,
   "metadata": {
    "collapsed": false
   },
   "outputs": [
    {
     "data": {
      "text/plain": [
       "2106282.314793056"
      ]
     },
     "execution_count": 11,
     "metadata": {},
     "output_type": "execute_result"
    }
   ],
   "source": [
    "getCRowByMiu( temp, miu )"
   ]
  },
  {
   "cell_type": "code",
   "execution_count": 12,
   "metadata": {
    "collapsed": false
   },
   "outputs": [
    {
     "data": {
      "text/plain": [
       "1.2"
      ]
     },
     "execution_count": 12,
     "metadata": {},
     "output_type": "execute_result"
    }
   ],
   "source": [
    "getLAMByMiu( temp, miu )"
   ]
  },
  {
   "cell_type": "code",
   "execution_count": 13,
   "metadata": {
    "collapsed": false
   },
   "outputs": [
    {
     "data": {
      "text/plain": [
       "0.16098357394272111"
      ]
     },
     "execution_count": 13,
     "metadata": {},
     "output_type": "execute_result"
    }
   ],
   "source": [
    "getPhiByMiu( temp, miu )"
   ]
  },
  {
   "cell_type": "code",
   "execution_count": 14,
   "metadata": {
    "collapsed": false
   },
   "outputs": [
    {
     "data": {
      "text/plain": [
       "-2.988199933567902"
      ]
     },
     "execution_count": 14,
     "metadata": {},
     "output_type": "execute_result"
    }
   ],
   "source": [
    "getMiuByPhi( temp, 0.22 )"
   ]
  },
  {
   "cell_type": "code",
   "execution_count": 15,
   "metadata": {
    "collapsed": false
   },
   "outputs": [
    {
     "data": {
      "text/plain": [
       "1.3666027427457417e-08"
      ]
     },
     "execution_count": 15,
     "metadata": {},
     "output_type": "execute_result"
    }
   ],
   "source": [
    "getDwByMiu( temp, miu )"
   ]
  },
  {
   "cell_type": "code",
   "execution_count": 16,
   "metadata": {
    "collapsed": false
   },
   "outputs": [
    {
     "data": {
      "text/plain": [
       "7.401285517526175e-11"
      ]
     },
     "execution_count": 16,
     "metadata": {},
     "output_type": "execute_result"
    }
   ],
   "source": [
    "getDPByMiu( temp, miu )"
   ]
  },
  {
   "cell_type": "code",
   "execution_count": 17,
   "metadata": {
    "collapsed": false
   },
   "outputs": [
    {
     "data": {
      "text/plain": [
       "0.0082117717783473342"
      ]
     },
     "execution_count": 17,
     "metadata": {},
     "output_type": "execute_result"
    }
   ],
   "source": [
    "getDPhiByMiu( temp, miu )"
   ]
  }
 ],
 "metadata": {
  "kernelspec": {
   "display_name": "Python 3",
   "language": "python",
   "name": "python3"
  },
  "language_info": {
   "codemirror_mode": {
    "name": "ipython",
    "version": 3
   },
   "file_extension": ".py",
   "mimetype": "text/x-python",
   "name": "python",
   "nbconvert_exporter": "python",
   "pygments_lexer": "ipython3",
   "version": "3.6.2"
  }
 },
 "nbformat": 4,
 "nbformat_minor": 2
}
